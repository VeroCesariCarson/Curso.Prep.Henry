{
  "nbformat": 4,
  "nbformat_minor": 0,
  "metadata": {
    "colab": {
      "name": "Actividad1MariaVeronicaCesari",
      "provenance": [],
      "authorship_tag": "ABX9TyP1krlK+fjKH+JJSMGwRTBa",
      "include_colab_link": true
    },
    "kernelspec": {
      "name": "python3",
      "display_name": "Python 3"
    },
    "language_info": {
      "name": "python"
    }
  },
  "cells": [
    {
      "cell_type": "markdown",
      "metadata": {
        "id": "view-in-github",
        "colab_type": "text"
      },
      "source": [
        "<a href=\"https://colab.research.google.com/github/VeroCesariCarson/Curso.Prep.Henry/blob/master/Actividad1MariaVeronicaCesari.ipynb\" target=\"_parent\"><img src=\"https://colab.research.google.com/assets/colab-badge.svg\" alt=\"Open In Colab\"/></a>"
      ]
    },
    {
      "cell_type": "code",
      "execution_count": 1,
      "metadata": {
        "colab": {
          "base_uri": "https://localhost:8080/"
        },
        "id": "EQRCrrOd15pw",
        "outputId": "4dc96538-331c-487b-882d-b8992b04c2b0"
      },
      "outputs": [
        {
          "output_type": "stream",
          "name": "stdout",
          "text": [
            "Ingrese la nota 1: 3\n",
            "Ingrese la nota 2: 5\n",
            "El promedio final es: 4\n"
          ]
        }
      ],
      "source": [
        "#Mi primer programa en python\n",
        "#Consigna: Crear un programa para calcular la nota final del estudiante en base a dos exámenes, \n",
        "# los exámenes cuentan con un porcentaje distinto de la nota final\n",
        "\n",
        "#notas finales\n",
        "nota_1=int(input(\"Ingrese la nota 1: \"))\n",
        "nota_2=int(input(\"Ingrese la nota 2: \"))\n",
        "\n",
        "#vale el 40% de la nota final\n",
        "porcentaje_1=int(nota_1*0.4)\n",
        "\n",
        "#vale el 60% de la nota final\n",
        "porcentaje_2=int(nota_2*0.6)\n",
        "\n",
        "#promedio final\n",
        "nota_final=(porcentaje_1+porcentaje_2)\n",
        "print(\"El promedio final es:\", nota_final)\n"
      ]
    }
  ]
}